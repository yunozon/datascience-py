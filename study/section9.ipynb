{
 "cells": [
  {
   "cell_type": "markdown",
   "id": "9beba500-7456-46a6-8684-4e3384101069",
   "metadata": {},
   "source": [
    "### 回帰の評価指標"
   ]
  },
  {
   "cell_type": "code",
   "execution_count": 18,
   "id": "548ec176-27a1-49ce-9ae4-917d6bba0c33",
   "metadata": {},
   "outputs": [],
   "source": [
    "import seaborn as sns\n",
    "import numpy as np\n",
    "from sklearn.model_selection import train_test_split\n",
    "from sklearn.linear_model import LinearRegression\n",
    "# データの準備\n",
    "df = sns.load_dataset('tips')\n",
    "# df\n",
    "X = df['total_bill'].values.reshape(-1, 1)\n",
    "y = df['tip'].values\n",
    "\n",
    "# model selection\n",
    "X_train, X_test, y_train, y_test = train_test_split(X, y, test_size=0.3, random_state=0)\n",
    "\n",
    "# model\n",
    "model = LinearRegression()\n",
    "model.fit(X_train, y_train)\n",
    "\n",
    "# predict\n",
    "y_pred = model.predict(X_test)"
   ]
  },
  {
   "cell_type": "code",
   "execution_count": 9,
   "id": "bb6b165f-b938-4af5-9054-bad61f95006f",
   "metadata": {},
   "outputs": [
    {
     "data": {
      "text/plain": [
       "0.8711845537539947"
      ]
     },
     "execution_count": 9,
     "metadata": {},
     "output_type": "execute_result"
    }
   ],
   "source": [
    "# MSE\n",
    "from sklearn.metrics import mean_squared_error\n",
    "mean_squared_error(y_test, y_pred)"
   ]
  },
  {
   "cell_type": "code",
   "execution_count": 12,
   "id": "bf8990a5-0317-4365-b267-20f851d5d8e2",
   "metadata": {},
   "outputs": [
    {
     "name": "stdout",
     "output_type": "stream",
     "text": [
      "0.933372676777071\n",
      "0.933372676777071\n"
     ]
    }
   ],
   "source": [
    "# RMSE\n",
    "print(mean_squared_error(y_test, y_pred, squared=False))\n",
    "print(np.sqrt(mean_squared_error(y_test, y_pred)))"
   ]
  },
  {
   "cell_type": "code",
   "execution_count": 13,
   "id": "cca353c2-245f-47e0-899b-b812fa1a5451",
   "metadata": {},
   "outputs": [
    {
     "data": {
      "text/plain": [
       "0.6903119067790222"
      ]
     },
     "execution_count": 13,
     "metadata": {},
     "output_type": "execute_result"
    }
   ],
   "source": [
    "# MAE \n",
    "from sklearn.metrics import mean_absolute_error\n",
    "mean_absolute_error(y_pred, y_test)"
   ]
  },
  {
   "cell_type": "code",
   "execution_count": 14,
   "id": "cbe08fed-706a-4d86-a5d4-100dd28f230b",
   "metadata": {},
   "outputs": [
    {
     "data": {
      "text/plain": [
       "0.49515102188632776"
      ]
     },
     "execution_count": 14,
     "metadata": {},
     "output_type": "execute_result"
    }
   ],
   "source": [
    "# 決定係数\n",
    "from sklearn.metrics import r2_score\n",
    "r2_score(y_test, y_pred)"
   ]
  },
  {
   "cell_type": "code",
   "execution_count": 25,
   "id": "5248de04-0577-4872-8dfd-413791604845",
   "metadata": {},
   "outputs": [
    {
     "data": {
      "text/plain": [
       "total_bill      0\n",
       "tip             0\n",
       "sex             0\n",
       "smoker        151\n",
       "day             0\n",
       "time            0\n",
       "size            0\n",
       "dtype: int64"
      ]
     },
     "execution_count": 25,
     "metadata": {},
     "output_type": "execute_result"
    }
   ],
   "source": [
    "df.isin(['No']).sum()"
   ]
  },
  {
   "cell_type": "code",
   "execution_count": 27,
   "id": "48c397a9-7cac-4b76-874e-a750979842ac",
   "metadata": {},
   "outputs": [
    {
     "data": {
      "text/html": [
       "<div>\n",
       "<style scoped>\n",
       "    .dataframe tbody tr th:only-of-type {\n",
       "        vertical-align: middle;\n",
       "    }\n",
       "\n",
       "    .dataframe tbody tr th {\n",
       "        vertical-align: top;\n",
       "    }\n",
       "\n",
       "    .dataframe thead th {\n",
       "        text-align: right;\n",
       "    }\n",
       "</style>\n",
       "<table border=\"1\" class=\"dataframe\">\n",
       "  <thead>\n",
       "    <tr style=\"text-align: right;\">\n",
       "      <th></th>\n",
       "      <th>total_bill</th>\n",
       "      <th>tip</th>\n",
       "    </tr>\n",
       "  </thead>\n",
       "  <tbody>\n",
       "    <tr>\n",
       "      <th>total_bill</th>\n",
       "      <td>1.000000</td>\n",
       "      <td>0.675734</td>\n",
       "    </tr>\n",
       "    <tr>\n",
       "      <th>tip</th>\n",
       "      <td>0.675734</td>\n",
       "      <td>1.000000</td>\n",
       "    </tr>\n",
       "  </tbody>\n",
       "</table>\n",
       "</div>"
      ],
      "text/plain": [
       "            total_bill       tip\n",
       "total_bill    1.000000  0.675734\n",
       "tip           0.675734  1.000000"
      ]
     },
     "execution_count": 27,
     "metadata": {},
     "output_type": "execute_result"
    }
   ],
   "source": [
    "df_1 = df[['total_bill', 'tip']]\n",
    "# df_1\n",
    "df_1.corr()"
   ]
  },
  {
   "cell_type": "code",
   "execution_count": null,
   "id": "3e5c4591-c974-4fdc-9d0b-163d3c7d29f8",
   "metadata": {},
   "outputs": [],
   "source": []
  }
 ],
 "metadata": {
  "kernelspec": {
   "display_name": "Python 3 (ipykernel)",
   "language": "python",
   "name": "python3"
  },
  "language_info": {
   "codemirror_mode": {
    "name": "ipython",
    "version": 3
   },
   "file_extension": ".py",
   "mimetype": "text/x-python",
   "name": "python",
   "nbconvert_exporter": "python",
   "pygments_lexer": "ipython3",
   "version": "3.11.4"
  }
 },
 "nbformat": 4,
 "nbformat_minor": 5
}
